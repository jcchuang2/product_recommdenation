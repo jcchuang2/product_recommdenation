{
 "cells": [
  {
   "cell_type": "code",
   "execution_count": null,
   "metadata": {},
   "outputs": [],
   "source": [
    "import pandas as pd\n",
    "import requests\n",
    "from bs4 import BeautifulSoup\n",
    "from datetime import datetime\n",
    "import time\n",
    "import random\n",
    "from requests.adapters import HTTPAdapter\n",
    "from requests.packages.urllib3.util.retry import Retry\n",
    "import matplotlib.pyplot as plt"
   ]
  },
  {
   "cell_type": "code",
   "execution_count": 88,
   "metadata": {},
   "outputs": [],
   "source": [
    "data = pd.read_csv('amazon.csv')"
   ]
  },
  {
   "cell_type": "code",
   "execution_count": 89,
   "metadata": {},
   "outputs": [
    {
     "data": {
      "text/html": [
       "<div>\n",
       "<style scoped>\n",
       "    .dataframe tbody tr th:only-of-type {\n",
       "        vertical-align: middle;\n",
       "    }\n",
       "\n",
       "    .dataframe tbody tr th {\n",
       "        vertical-align: top;\n",
       "    }\n",
       "\n",
       "    .dataframe thead th {\n",
       "        text-align: right;\n",
       "    }\n",
       "</style>\n",
       "<table border=\"1\" class=\"dataframe\">\n",
       "  <thead>\n",
       "    <tr style=\"text-align: right;\">\n",
       "      <th></th>\n",
       "      <th>product_id</th>\n",
       "      <th>product_name</th>\n",
       "      <th>category</th>\n",
       "      <th>discounted_price</th>\n",
       "      <th>actual_price</th>\n",
       "      <th>discount_percentage</th>\n",
       "      <th>rating</th>\n",
       "      <th>rating_count</th>\n",
       "      <th>about_product</th>\n",
       "      <th>user_id</th>\n",
       "      <th>user_name</th>\n",
       "      <th>review_id</th>\n",
       "      <th>review_title</th>\n",
       "      <th>review_content</th>\n",
       "      <th>img_link</th>\n",
       "      <th>product_link</th>\n",
       "    </tr>\n",
       "  </thead>\n",
       "  <tbody>\n",
       "    <tr>\n",
       "      <th>0</th>\n",
       "      <td>B07JW9H4J1</td>\n",
       "      <td>Wayona Nylon Braided USB to Lightning Fast Cha...</td>\n",
       "      <td>Computers&amp;Accessories|Accessories&amp;Peripherals|...</td>\n",
       "      <td>₹399</td>\n",
       "      <td>₹1,099</td>\n",
       "      <td>64%</td>\n",
       "      <td>4.2</td>\n",
       "      <td>24,269</td>\n",
       "      <td>High Compatibility : Compatible With iPhone 12...</td>\n",
       "      <td>AG3D6O4STAQKAY2UVGEUV46KN35Q,AHMY5CWJMMK5BJRBB...</td>\n",
       "      <td>Manav,Adarsh gupta,Sundeep,S.Sayeed Ahmed,jasp...</td>\n",
       "      <td>R3HXWT0LRP0NMF,R2AJM3LFTLZHFO,R6AQJGUP6P86,R1K...</td>\n",
       "      <td>Satisfied,Charging is really fast,Value for mo...</td>\n",
       "      <td>Looks durable Charging is fine tooNo complains...</td>\n",
       "      <td>https://m.media-amazon.com/images/W/WEBP_40237...</td>\n",
       "      <td>https://www.amazon.in/Wayona-Braided-WN3LG1-Sy...</td>\n",
       "    </tr>\n",
       "    <tr>\n",
       "      <th>1</th>\n",
       "      <td>B098NS6PVG</td>\n",
       "      <td>Ambrane Unbreakable 60W / 3A Fast Charging 1.5...</td>\n",
       "      <td>Computers&amp;Accessories|Accessories&amp;Peripherals|...</td>\n",
       "      <td>₹199</td>\n",
       "      <td>₹349</td>\n",
       "      <td>43%</td>\n",
       "      <td>4.0</td>\n",
       "      <td>43,994</td>\n",
       "      <td>Compatible with all Type C enabled devices, be...</td>\n",
       "      <td>AECPFYFQVRUWC3KGNLJIOREFP5LQ,AGYYVPDD7YG7FYNBX...</td>\n",
       "      <td>ArdKn,Nirbhay kumar,Sagar Viswanathan,Asp,Plac...</td>\n",
       "      <td>RGIQEG07R9HS2,R1SMWZQ86XIN8U,R2J3Y1WL29GWDE,RY...</td>\n",
       "      <td>A Good Braided Cable for Your Type C Device,Go...</td>\n",
       "      <td>I ordered this cable to connect my phone to An...</td>\n",
       "      <td>https://m.media-amazon.com/images/W/WEBP_40237...</td>\n",
       "      <td>https://www.amazon.in/Ambrane-Unbreakable-Char...</td>\n",
       "    </tr>\n",
       "    <tr>\n",
       "      <th>2</th>\n",
       "      <td>B096MSW6CT</td>\n",
       "      <td>Sounce Fast Phone Charging Cable &amp; Data Sync U...</td>\n",
       "      <td>Computers&amp;Accessories|Accessories&amp;Peripherals|...</td>\n",
       "      <td>₹199</td>\n",
       "      <td>₹1,899</td>\n",
       "      <td>90%</td>\n",
       "      <td>3.9</td>\n",
       "      <td>7,928</td>\n",
       "      <td>【 Fast Charger&amp; Data Sync】-With built-in safet...</td>\n",
       "      <td>AGU3BBQ2V2DDAMOAKGFAWDDQ6QHA,AESFLDV2PT363T2AQ...</td>\n",
       "      <td>Kunal,Himanshu,viswanath,sai niharka,saqib mal...</td>\n",
       "      <td>R3J3EQQ9TZI5ZJ,R3E7WBGK7ID0KV,RWU79XKQ6I1QF,R2...</td>\n",
       "      <td>Good speed for earlier versions,Good Product,W...</td>\n",
       "      <td>Not quite durable and sturdy,https://m.media-a...</td>\n",
       "      <td>https://m.media-amazon.com/images/W/WEBP_40237...</td>\n",
       "      <td>https://www.amazon.in/Sounce-iPhone-Charging-C...</td>\n",
       "    </tr>\n",
       "    <tr>\n",
       "      <th>3</th>\n",
       "      <td>B08HDJ86NZ</td>\n",
       "      <td>boAt Deuce USB 300 2 in 1 Type-C &amp; Micro USB S...</td>\n",
       "      <td>Computers&amp;Accessories|Accessories&amp;Peripherals|...</td>\n",
       "      <td>₹329</td>\n",
       "      <td>₹699</td>\n",
       "      <td>53%</td>\n",
       "      <td>4.2</td>\n",
       "      <td>94,363</td>\n",
       "      <td>The boAt Deuce USB 300 2 in 1 cable is compati...</td>\n",
       "      <td>AEWAZDZZJLQUYVOVGBEUKSLXHQ5A,AG5HTSFRRE6NL3M5S...</td>\n",
       "      <td>Omkar dhale,JD,HEMALATHA,Ajwadh a.,amar singh ...</td>\n",
       "      <td>R3EEUZKKK9J36I,R3HJVYCLYOY554,REDECAZ7AMPQC,R1...</td>\n",
       "      <td>Good product,Good one,Nice,Really nice product...</td>\n",
       "      <td>Good product,long wire,Charges good,Nice,I bou...</td>\n",
       "      <td>https://m.media-amazon.com/images/I/41V5FtEWPk...</td>\n",
       "      <td>https://www.amazon.in/Deuce-300-Resistant-Tang...</td>\n",
       "    </tr>\n",
       "    <tr>\n",
       "      <th>4</th>\n",
       "      <td>B08CF3B7N1</td>\n",
       "      <td>Portronics Konnect L 1.2M Fast Charging 3A 8 P...</td>\n",
       "      <td>Computers&amp;Accessories|Accessories&amp;Peripherals|...</td>\n",
       "      <td>₹154</td>\n",
       "      <td>₹399</td>\n",
       "      <td>61%</td>\n",
       "      <td>4.2</td>\n",
       "      <td>16,905</td>\n",
       "      <td>[CHARGE &amp; SYNC FUNCTION]- This cable comes wit...</td>\n",
       "      <td>AE3Q6KSUK5P75D5HFYHCRAOLODSA,AFUGIFH5ZAFXRDSZH...</td>\n",
       "      <td>rahuls6099,Swasat Borah,Ajay Wadke,Pranali,RVK...</td>\n",
       "      <td>R1BP4L2HH9TFUP,R16PVJEXKV6QZS,R2UPDB81N66T4P,R...</td>\n",
       "      <td>As good as original,Decent,Good one for second...</td>\n",
       "      <td>Bought this instead of original apple, does th...</td>\n",
       "      <td>https://m.media-amazon.com/images/W/WEBP_40237...</td>\n",
       "      <td>https://www.amazon.in/Portronics-Konnect-POR-1...</td>\n",
       "    </tr>\n",
       "  </tbody>\n",
       "</table>\n",
       "</div>"
      ],
      "text/plain": [
       "   product_id                                       product_name  \\\n",
       "0  B07JW9H4J1  Wayona Nylon Braided USB to Lightning Fast Cha...   \n",
       "1  B098NS6PVG  Ambrane Unbreakable 60W / 3A Fast Charging 1.5...   \n",
       "2  B096MSW6CT  Sounce Fast Phone Charging Cable & Data Sync U...   \n",
       "3  B08HDJ86NZ  boAt Deuce USB 300 2 in 1 Type-C & Micro USB S...   \n",
       "4  B08CF3B7N1  Portronics Konnect L 1.2M Fast Charging 3A 8 P...   \n",
       "\n",
       "                                            category discounted_price  \\\n",
       "0  Computers&Accessories|Accessories&Peripherals|...             ₹399   \n",
       "1  Computers&Accessories|Accessories&Peripherals|...             ₹199   \n",
       "2  Computers&Accessories|Accessories&Peripherals|...             ₹199   \n",
       "3  Computers&Accessories|Accessories&Peripherals|...             ₹329   \n",
       "4  Computers&Accessories|Accessories&Peripherals|...             ₹154   \n",
       "\n",
       "  actual_price discount_percentage rating rating_count  \\\n",
       "0       ₹1,099                 64%    4.2       24,269   \n",
       "1         ₹349                 43%    4.0       43,994   \n",
       "2       ₹1,899                 90%    3.9        7,928   \n",
       "3         ₹699                 53%    4.2       94,363   \n",
       "4         ₹399                 61%    4.2       16,905   \n",
       "\n",
       "                                       about_product  \\\n",
       "0  High Compatibility : Compatible With iPhone 12...   \n",
       "1  Compatible with all Type C enabled devices, be...   \n",
       "2  【 Fast Charger& Data Sync】-With built-in safet...   \n",
       "3  The boAt Deuce USB 300 2 in 1 cable is compati...   \n",
       "4  [CHARGE & SYNC FUNCTION]- This cable comes wit...   \n",
       "\n",
       "                                             user_id  \\\n",
       "0  AG3D6O4STAQKAY2UVGEUV46KN35Q,AHMY5CWJMMK5BJRBB...   \n",
       "1  AECPFYFQVRUWC3KGNLJIOREFP5LQ,AGYYVPDD7YG7FYNBX...   \n",
       "2  AGU3BBQ2V2DDAMOAKGFAWDDQ6QHA,AESFLDV2PT363T2AQ...   \n",
       "3  AEWAZDZZJLQUYVOVGBEUKSLXHQ5A,AG5HTSFRRE6NL3M5S...   \n",
       "4  AE3Q6KSUK5P75D5HFYHCRAOLODSA,AFUGIFH5ZAFXRDSZH...   \n",
       "\n",
       "                                           user_name  \\\n",
       "0  Manav,Adarsh gupta,Sundeep,S.Sayeed Ahmed,jasp...   \n",
       "1  ArdKn,Nirbhay kumar,Sagar Viswanathan,Asp,Plac...   \n",
       "2  Kunal,Himanshu,viswanath,sai niharka,saqib mal...   \n",
       "3  Omkar dhale,JD,HEMALATHA,Ajwadh a.,amar singh ...   \n",
       "4  rahuls6099,Swasat Borah,Ajay Wadke,Pranali,RVK...   \n",
       "\n",
       "                                           review_id  \\\n",
       "0  R3HXWT0LRP0NMF,R2AJM3LFTLZHFO,R6AQJGUP6P86,R1K...   \n",
       "1  RGIQEG07R9HS2,R1SMWZQ86XIN8U,R2J3Y1WL29GWDE,RY...   \n",
       "2  R3J3EQQ9TZI5ZJ,R3E7WBGK7ID0KV,RWU79XKQ6I1QF,R2...   \n",
       "3  R3EEUZKKK9J36I,R3HJVYCLYOY554,REDECAZ7AMPQC,R1...   \n",
       "4  R1BP4L2HH9TFUP,R16PVJEXKV6QZS,R2UPDB81N66T4P,R...   \n",
       "\n",
       "                                        review_title  \\\n",
       "0  Satisfied,Charging is really fast,Value for mo...   \n",
       "1  A Good Braided Cable for Your Type C Device,Go...   \n",
       "2  Good speed for earlier versions,Good Product,W...   \n",
       "3  Good product,Good one,Nice,Really nice product...   \n",
       "4  As good as original,Decent,Good one for second...   \n",
       "\n",
       "                                      review_content  \\\n",
       "0  Looks durable Charging is fine tooNo complains...   \n",
       "1  I ordered this cable to connect my phone to An...   \n",
       "2  Not quite durable and sturdy,https://m.media-a...   \n",
       "3  Good product,long wire,Charges good,Nice,I bou...   \n",
       "4  Bought this instead of original apple, does th...   \n",
       "\n",
       "                                            img_link  \\\n",
       "0  https://m.media-amazon.com/images/W/WEBP_40237...   \n",
       "1  https://m.media-amazon.com/images/W/WEBP_40237...   \n",
       "2  https://m.media-amazon.com/images/W/WEBP_40237...   \n",
       "3  https://m.media-amazon.com/images/I/41V5FtEWPk...   \n",
       "4  https://m.media-amazon.com/images/W/WEBP_40237...   \n",
       "\n",
       "                                        product_link  \n",
       "0  https://www.amazon.in/Wayona-Braided-WN3LG1-Sy...  \n",
       "1  https://www.amazon.in/Ambrane-Unbreakable-Char...  \n",
       "2  https://www.amazon.in/Sounce-iPhone-Charging-C...  \n",
       "3  https://www.amazon.in/Deuce-300-Resistant-Tang...  \n",
       "4  https://www.amazon.in/Portronics-Konnect-POR-1...  "
      ]
     },
     "execution_count": 89,
     "metadata": {},
     "output_type": "execute_result"
    }
   ],
   "source": [
    "data.head()"
   ]
  },
  {
   "cell_type": "code",
   "execution_count": null,
   "metadata": {},
   "outputs": [],
   "source": [
    "# Set up a retry session to handle failed requests\n",
    "session = requests.Session()\n",
    "retries = Retry(total=2, backoff_factor=1, status_forcelist=[500, 502, 503, 504, 429])\n",
    "session.mount('https://', HTTPAdapter(max_retries=retries))\n",
    "\n",
    "def scrape_product_info(url):\n",
    "    headers = {\n",
    "        'User-Agent': random.choice([\n",
    "            'Mozilla/5.0 (Macintosh; Intel Mac OS X 10_15_7) AppleWebKit/537.36 (KHTML, like Gecko) Chrome/132.0.0.0 Safari/537.36',\n",
    "            'Mozilla/5.0 (Windows NT 10.0; Win64; x64) AppleWebKit/537.36 (KHTML, like Gecko) Chrome/91.0 Safari/537.36',\n",
    "            'Mozilla/5.0 (X11; Linux x86_64) AppleWebKit/537.36 (KHTML, like Gecko) Chrome/90.0 Safari/537.36'\n",
    "        ]),\n",
    "        'Accept-Language': 'da, en-gb, en',\n",
    "        'Accept-Encoding': 'gzip, deflate, br',\n",
    "        'Accept': 'text/html,application/xhtml+xml,application/xml;q=0.9,image/avif,image/webp,*/*;q=0.8',\n",
    "        'Referer': 'https://www.google.com/'\n",
    "    }\n",
    "\n",
    "    try:\n",
    "        response = session.get(url, headers=headers, timeout=10)\n",
    "        response.raise_for_status()\n",
    "    except requests.exceptions.RequestException as e:\n",
    "        print(f\"Request failed for {url}: {e}\")\n",
    "        return {'url': url, 'brand': None, 'release_date': None}\n",
    "\n",
    "    soup = BeautifulSoup(response.content, 'html.parser')\n",
    "\n",
    "    # Get brand name\n",
    "    brand_element = soup.find('span', {'class': 'a-size-base po-break-word'})\n",
    "    brand = brand_element.text.strip() if brand_element else None\n",
    "\n",
    "    # Get item release date\n",
    "    date = None\n",
    "    table = soup.find('table', {\"id\": \"productDetails_detailBullets_sections1\"})\n",
    "    if table:\n",
    "        details = soup.find_all('th', {'class': 'a-color-secondary a-size-base prodDetSectionEntry'})\n",
    "        for detail in details:\n",
    "            if detail.text.strip() == 'Date First Available':\n",
    "                date_value = detail.find_parent('tr').find('td', {'class': 'a-size-base prodDetAttrValue'})\n",
    "                if date_value:\n",
    "                    date_string = date_value.text.strip()\n",
    "                    try:\n",
    "                        date = datetime.strptime(date_string, \"%d %B %Y\")\n",
    "                    except ValueError:\n",
    "                        print(f\"Date parsing failed for {url}: {date_string}\")\n",
    "                break\n",
    "\n",
    "    # Randomized delay to avoid detection\n",
    "    time.sleep(random.uniform(1, 3))\n",
    "\n",
    "    return {'url': url, 'brand': brand, 'release_date': date}\n"
   ]
  },
  {
   "cell_type": "code",
   "execution_count": 95,
   "metadata": {},
   "outputs": [
    {
     "name": "stdout",
     "output_type": "stream",
     "text": [
      "Request failed for https://www.amazon.in/FLiX-Beetel-Durable-Lightning-Charge/dp/B08P9RYPLR/ref=sr_1_216?qid=1672909134&s=electronics&sr=1-216: 404 Client Error: Not Found for url: https://www.amazon.in/FLiX-Beetel-Durable-Lightning-Charge/dp/B08P9RYPLR/ref=sr_1_216?qid=1672909134&s=electronics&sr=1-216\n",
      "Request failed for https://www.amazon.in/Kodak-inches-55CA0909-Digital-Surround/dp/B08XXF5V6G/ref=sr_1_462?qid=1672909147&s=electronics&sr=1-462: 404 Client Error: Not Found for url: https://www.amazon.in/Kodak-inches-55CA0909-Digital-Surround/dp/B08XXF5V6G/ref=sr_1_462?qid=1672909147&s=electronics&sr=1-462\n",
      "Request failed for https://www.amazon.in/Smashtronics%C2%AE-Silicone-Firestick-Control-Shockproof/dp/B09HK9JH4F/ref=sr_1_463?qid=1672909147&s=electronics&sr=1-463: 404 Client Error: Not Found for url: https://www.amazon.in/Smashtronics%C2%AE-Silicone-Firestick-Control-Shockproof/dp/B09HK9JH4F/ref=sr_1_463?qid=1672909147&s=electronics&sr=1-463\n",
      "Request failed for https://www.amazon.in/Female-Converter-Adapter-Projectors-Devices/dp/B07VJ9ZTXS/ref=sr_1_487?qid=1672909149&s=electronics&sr=1-487: 404 Client Error: Not Found for url: https://www.amazon.in/Female-Converter-Adapter-Projectors-Devices/dp/B07VJ9ZTXS/ref=sr_1_487?qid=1672909149&s=electronics&sr=1-487\n",
      "Request failed for https://www.amazon.in/REDTECH-Lightning-Certified-Charging-Compatible/dp/B0BQRJ3C47/ref=sr_1_491?qid=1672909149&s=electronics&sr=1-491: 404 Client Error: Not Found for url: https://www.amazon.in/REDTECH-Lightning-Certified-Charging-Compatible/dp/B0BQRJ3C47/ref=sr_1_491?qid=1672909149&s=electronics&sr=1-491\n",
      "Request failed for https://www.amazon.in/Samsung-25W-Travel-Adapter/dp/B08VFF6JQ8/ref=sr_1_27_mod_primary_new?qid=1672895755&s=electronics&sbo=RZvfv%2F%2FHxDF%2BO5021pAnSA%3D%3D&sr=1-27: 404 Client Error: Not Found for url: https://www.amazon.in/Samsung-25W-Travel-Adapter/dp/B08VFF6JQ8/ref=sr_1_27_mod_primary_new?qid=1672895755&s=electronics&sbo=RZvfv%2F%2FHxDF%2BO5021pAnSA%3D%3D&sr=1-27\n",
      "Request failed for https://www.amazon.in/boAt-Wave-Call-Dedicated-Multi-Sport/dp/B0B5DDJNH4/ref=sr_1_60?qid=1672895762&s=electronics&sr=1-60: 404 Client Error: Not Found for url: https://www.amazon.in/boAt-Wave-Call-Dedicated-Multi-Sport/dp/B0B5DDJNH4/ref=sr_1_60?qid=1672895762&s=electronics&sr=1-60\n",
      "Request failed for https://www.amazon.in/Fire-Boltt-Bluetooth-Assistance-Calculator-Monitoring/dp/B0B3MWYCHQ/ref=sr_1_145?qid=1672895791&s=electronics&sr=1-145: 404 Client Error: Not Found for url: https://www.amazon.in/Fire-Boltt-Bluetooth-Assistance-Calculator-Monitoring/dp/B0B3MWYCHQ/ref=sr_1_145?qid=1672895791&s=electronics&sr=1-145\n",
      "Request failed for https://www.amazon.in/PTron-Force-Bluetooth-Smartwatch-Waterproof/dp/B0B53NXFFR/ref=sr_1_184?qid=1672895799&s=electronics&sr=1-184: 404 Client Error: Not Found for url: https://www.amazon.in/PTron-Force-Bluetooth-Smartwatch-Waterproof/dp/B0B53NXFFR/ref=sr_1_184?qid=1672895799&s=electronics&sr=1-184\n",
      "Request failed for https://www.amazon.in/Boult-Bluetooth-Smartwatch-Brightness-Waterproof/dp/B0BMVWKZ8G/ref=sr_1_230?qid=1672895814&s=electronics&sr=1-230: 404 Client Error: Not Found for url: https://www.amazon.in/Boult-Bluetooth-Smartwatch-Brightness-Waterproof/dp/B0BMVWKZ8G/ref=sr_1_230?qid=1672895814&s=electronics&sr=1-230\n",
      "Request failed for https://www.amazon.in/Noise-Bluetooth-Calling-Display-Assistant/dp/B0B5GF6DQD/ref=sr_1_238?qid=1672895814&s=electronics&sr=1-238: 404 Client Error: Not Found for url: https://www.amazon.in/Noise-Bluetooth-Calling-Display-Assistant/dp/B0B5GF6DQD/ref=sr_1_238?qid=1672895814&s=electronics&sr=1-238\n",
      "Request failed for https://www.amazon.in/Fire-Boltt-Smartwatch-Sports-Tracking-Silver/dp/B09YV463SW/ref=sr_1_242?qid=1672895821&s=electronics&sr=1-242: 404 Client Error: Not Found for url: https://www.amazon.in/Fire-Boltt-Smartwatch-Sports-Tracking-Silver/dp/B09YV463SW/ref=sr_1_242?qid=1672895821&s=electronics&sr=1-242\n",
      "Request failed for https://www.amazon.in/boAt-Launched-Electra-Ultra-Seamless-Personalization/dp/B0BNVBJW2S/ref=sr_1_259?qid=1672895821&s=electronics&sr=1-259: 404 Client Error: Not Found for url: https://www.amazon.in/boAt-Launched-Electra-Ultra-Seamless-Personalization/dp/B0BNVBJW2S/ref=sr_1_259?qid=1672895821&s=electronics&sr=1-259\n",
      "Request failed for https://www.amazon.in/Compatible-I-Phone13-I-Phone11-Only-Adapter/dp/B0B54Y2SNX/ref=sr_1_315?qid=1672895842&s=electronics&sr=1-315: 404 Client Error: Not Found for url: https://www.amazon.in/Compatible-I-Phone13-I-Phone11-Only-Adapter/dp/B0B54Y2SNX/ref=sr_1_315?qid=1672895842&s=electronics&sr=1-315\n",
      "Request failed for https://www.amazon.in/Noise-ColorFit-Bluetooth-Calling-Metallic/dp/B0B2X35B1K/ref=sr_1_379?qid=1672895857&s=electronics&sr=1-379: 404 Client Error: Not Found for url: https://www.amazon.in/Noise-ColorFit-Bluetooth-Calling-Metallic/dp/B0B2X35B1K/ref=sr_1_379?qid=1672895857&s=electronics&sr=1-379\n",
      "Request failed for https://www.amazon.in/Ambrane-20000mAh-Lithium-Polymer-Stylo-20K/dp/B07RD611Z8/ref=sr_1_77?qid=1672902998&s=computers&sr=1-77: 404 Client Error: Not Found for url: https://www.amazon.in/Ambrane-20000mAh-Lithium-Polymer-Stylo-20K/dp/B07RD611Z8/ref=sr_1_77?qid=1672902998&s=computers&sr=1-77\n",
      "Request failed for https://www.amazon.in/ESnipe-Mart-Worldwide-Protected-Electrical/dp/B07WKBD37W/ref=sr_1_242?qid=1672903007&s=computers&sr=1-242: 404 Client Error: Not Found for url: https://www.amazon.in/ESnipe-Mart-Worldwide-Protected-Electrical/dp/B07WKBD37W/ref=sr_1_242?qid=1672903007&s=computers&sr=1-242\n",
      "Request failed for https://www.amazon.in/Inventis-Portable-Flexible-Light-Colors/dp/B00URH5E34/ref=sr_1_461?qid=1672903018&s=computers&sr=1-461: 404 Client Error: Not Found for url: https://www.amazon.in/Inventis-Portable-Flexible-Light-Colors/dp/B00URH5E34/ref=sr_1_461?qid=1672903018&s=computers&sr=1-461\n",
      "Request failed for https://www.amazon.in/Ikea-Lint-Roller-Paper-Sheets/dp/B07MP21WJD/ref=sr_1_156_mod_primary_new?qid=1672923598&s=kitchen&sbo=RZvfv%2F%2FHxDF%2BO5021pAnSA%3D%3D&sr=1-156: 404 Client Error: Not Found for url: https://www.amazon.in/Ikea-Lint-Roller-Paper-Sheets/dp/B07MP21WJD/ref=sr_1_156_mod_primary_new?qid=1672923598&s=kitchen&sbo=RZvfv%2F%2FHxDF%2BO5021pAnSA%3D%3D&sr=1-156\n",
      "Request failed for https://www.amazon.in/HOMEPACK%C2%AE-Radiant-Office-Heaters-Portable/dp/B099PR2GQJ/ref=sr_1_197?qid=1672923600&s=kitchen&sr=1-197: 404 Client Error:  for url: https://www.amazon.in/HOMEPACK%C2%AE-Radiant-Office-Heaters-Portable/dp/B099PR2GQJ/ref=sr_1_197?qid=1672923600&s=kitchen&sr=1-197\n",
      "Request failed for https://www.amazon.in/WIDEWINGS-Electric-Handheld-Frother-Blender/dp/B0BPCJM7TB/ref=sr_1_205?qid=1672923601&s=kitchen&sr=1-205: 404 Client Error:  for url: https://www.amazon.in/WIDEWINGS-Electric-Handheld-Frother-Blender/dp/B0BPCJM7TB/ref=sr_1_205?qid=1672923601&s=kitchen&sr=1-205\n",
      "Request failed for https://www.amazon.in/Sui-Generis-Frother-Electric-Blender/dp/B098T9CJVQ/ref=sr_1_248?qid=1672923605&s=kitchen&sr=1-248: 404 Client Error:  for url: https://www.amazon.in/Sui-Generis-Frother-Electric-Blender/dp/B098T9CJVQ/ref=sr_1_248?qid=1672923605&s=kitchen&sr=1-248\n",
      "Request failed for https://www.amazon.in/CSI-INTERNATIONAL%C2%AE-Instant-portable-Plastic/dp/B0836JGZ74/ref=sr_1_274?qid=1672923606&s=kitchen&sr=1-274: 404 Client Error:  for url: https://www.amazon.in/CSI-INTERNATIONAL%C2%AE-Instant-portable-Plastic/dp/B0836JGZ74/ref=sr_1_274?qid=1672923606&s=kitchen&sr=1-274\n",
      "Request failed for https://www.amazon.in/MR-BRAND-Portable-Electric-Rechargeable/dp/B0BNDGL26T/ref=sr_1_302?qid=1672923607&s=kitchen&sr=1-302: 404 Client Error:  for url: https://www.amazon.in/MR-BRAND-Portable-Electric-Rechargeable/dp/B0BNDGL26T/ref=sr_1_302?qid=1672923607&s=kitchen&sr=1-302\n",
      "Request failed for https://www.amazon.in/Aquadpure-Copper-ADJUSTER-Purifier-Technology/dp/B0BJ966M5K/ref=sr_1_308?qid=1672923607&s=kitchen&sr=1-308: 404 Client Error:  for url: https://www.amazon.in/Aquadpure-Copper-ADJUSTER-Purifier-Technology/dp/B0BJ966M5K/ref=sr_1_308?qid=1672923607&s=kitchen&sr=1-308\n",
      "Request failed for https://www.amazon.in/HANEUL-2000-Watt-Heater-HN-2500-Thermoset/dp/B0BMZ6SY89/ref=sr_1_312?qid=1672923607&s=kitchen&sr=1-312: 404 Client Error:  for url: https://www.amazon.in/HANEUL-2000-Watt-Heater-HN-2500-Thermoset/dp/B0BMZ6SY89/ref=sr_1_312?qid=1672923607&s=kitchen&sr=1-312\n",
      "Request failed for https://www.amazon.in/Melbon-Blower-Heater-2000-Watt-White/dp/B09P1MFKG1/ref=sr_1_313?qid=1672923607&s=kitchen&sr=1-313: 404 Client Error:  for url: https://www.amazon.in/Melbon-Blower-Heater-2000-Watt-White/dp/B09P1MFKG1/ref=sr_1_313?qid=1672923607&s=kitchen&sr=1-313\n",
      "Request failed for https://www.amazon.in/Candes-BlowHot-Silent-Blower-Heater/dp/B09R1YFL6S/ref=sr_1_388?qid=1672923612&s=kitchen&sr=1-388: 404 Client Error:  for url: https://www.amazon.in/Candes-BlowHot-Silent-Blower-Heater/dp/B09R1YFL6S/ref=sr_1_388?qid=1672923612&s=kitchen&sr=1-388\n",
      "Request failed for https://www.amazon.in/KNYUC-MART-Electric-Compact-Adjustable/dp/B09ZVJXN5L/ref=sr_1_403?qid=1672923612&s=kitchen&sr=1-403: 404 Client Error:  for url: https://www.amazon.in/KNYUC-MART-Electric-Compact-Adjustable/dp/B09ZVJXN5L/ref=sr_1_403?qid=1672923612&s=kitchen&sr=1-403\n",
      "Request failed for https://www.amazon.in/Induction-Cooktop-Overheat-Protection-Certified/dp/B0BL11S5QK/ref=sr_1_460?qid=1672923614&s=kitchen&sr=1-460: 404 Client Error:  for url: https://www.amazon.in/Induction-Cooktop-Overheat-Protection-Certified/dp/B0BL11S5QK/ref=sr_1_460?qid=1672923614&s=kitchen&sr=1-460\n",
      "Request failed for https://www.amazon.in/Portable-Compact-Electric-Wall-Outlet-Adjustable/dp/B0BPBG712X/ref=sr_1_470?qid=1672923615&s=kitchen&sr=1-470: 404 Client Error:  for url: https://www.amazon.in/Portable-Compact-Electric-Wall-Outlet-Adjustable/dp/B0BPBG712X/ref=sr_1_470?qid=1672923615&s=kitchen&sr=1-470\n",
      "Request failed for https://www.amazon.in/Larrito-Humidifiers-Humidifier-humidifiers-HUMIDIFIRE/dp/B0B97D658R/ref=sr_1_484?qid=1672923617&s=kitchen&sr=1-484: 404 Client Error:  for url: https://www.amazon.in/Larrito-Humidifiers-Humidifier-humidifiers-HUMIDIFIRE/dp/B0B97D658R/ref=sr_1_484?qid=1672923617&s=kitchen&sr=1-484\n"
     ]
    }
   ],
   "source": [
    "product_info = []\n",
    "for i in range(len(data)):\n",
    "    url = data.iloc[i]['product_link']\n",
    "    info = scrape_product_info(url)\n",
    "    product_info.append(info)\n",
    "    time.sleep(1)"
   ]
  },
  {
   "cell_type": "code",
   "execution_count": 97,
   "metadata": {},
   "outputs": [
    {
     "data": {
      "text/plain": [
       "1465"
      ]
     },
     "execution_count": 97,
     "metadata": {},
     "output_type": "execute_result"
    }
   ],
   "source": [
    "len(product_info)"
   ]
  },
  {
   "cell_type": "code",
   "execution_count": 98,
   "metadata": {},
   "outputs": [],
   "source": [
    "products_df = pd.DataFrame(product_info)"
   ]
  },
  {
   "cell_type": "code",
   "execution_count": 99,
   "metadata": {},
   "outputs": [
    {
     "data": {
      "text/html": [
       "<div>\n",
       "<style scoped>\n",
       "    .dataframe tbody tr th:only-of-type {\n",
       "        vertical-align: middle;\n",
       "    }\n",
       "\n",
       "    .dataframe tbody tr th {\n",
       "        vertical-align: top;\n",
       "    }\n",
       "\n",
       "    .dataframe thead th {\n",
       "        text-align: right;\n",
       "    }\n",
       "</style>\n",
       "<table border=\"1\" class=\"dataframe\">\n",
       "  <thead>\n",
       "    <tr style=\"text-align: right;\">\n",
       "      <th></th>\n",
       "      <th>url</th>\n",
       "      <th>brand</th>\n",
       "      <th>release_date</th>\n",
       "    </tr>\n",
       "  </thead>\n",
       "  <tbody>\n",
       "    <tr>\n",
       "      <th>0</th>\n",
       "      <td>https://www.amazon.in/Wayona-Braided-WN3LG1-Sy...</td>\n",
       "      <td>Wayona</td>\n",
       "      <td>2018-10-15</td>\n",
       "    </tr>\n",
       "    <tr>\n",
       "      <th>1</th>\n",
       "      <td>https://www.amazon.in/Ambrane-Unbreakable-Char...</td>\n",
       "      <td>Ambrane</td>\n",
       "      <td>2021-07-05</td>\n",
       "    </tr>\n",
       "    <tr>\n",
       "      <th>2</th>\n",
       "      <td>https://www.amazon.in/Sounce-iPhone-Charging-C...</td>\n",
       "      <td>Sounce</td>\n",
       "      <td>2021-02-24</td>\n",
       "    </tr>\n",
       "    <tr>\n",
       "      <th>3</th>\n",
       "      <td>https://www.amazon.in/Deuce-300-Resistant-Tang...</td>\n",
       "      <td>boAt</td>\n",
       "      <td>2020-09-03</td>\n",
       "    </tr>\n",
       "    <tr>\n",
       "      <th>4</th>\n",
       "      <td>https://www.amazon.in/Portronics-Konnect-POR-1...</td>\n",
       "      <td>Portronics</td>\n",
       "      <td>2020-07-08</td>\n",
       "    </tr>\n",
       "    <tr>\n",
       "      <th>...</th>\n",
       "      <td>...</td>\n",
       "      <td>...</td>\n",
       "      <td>...</td>\n",
       "    </tr>\n",
       "    <tr>\n",
       "      <th>1460</th>\n",
       "      <td>https://www.amazon.in/Noir-Aqua-Spanner-Purifi...</td>\n",
       "      <td>Polypropylene</td>\n",
       "      <td>2020-10-09</td>\n",
       "    </tr>\n",
       "    <tr>\n",
       "      <th>1461</th>\n",
       "      <td>https://www.amazon.in/Prestige-Delight-PRWO-1-...</td>\n",
       "      <td>Prestige</td>\n",
       "      <td>NaT</td>\n",
       "    </tr>\n",
       "    <tr>\n",
       "      <th>1462</th>\n",
       "      <td>https://www.amazon.in/Bajaj-RX-10-2000-Watt-Co...</td>\n",
       "      <td>Bajaj</td>\n",
       "      <td>2012-10-11</td>\n",
       "    </tr>\n",
       "    <tr>\n",
       "      <th>1463</th>\n",
       "      <td>https://www.amazon.in/Havells-Ventilair-230mm-...</td>\n",
       "      <td>Havells</td>\n",
       "      <td>NaT</td>\n",
       "    </tr>\n",
       "    <tr>\n",
       "      <th>1464</th>\n",
       "      <td>https://www.amazon.in/Borosil-Jumbo-1000-Watt-...</td>\n",
       "      <td>None</td>\n",
       "      <td>NaT</td>\n",
       "    </tr>\n",
       "  </tbody>\n",
       "</table>\n",
       "<p>1465 rows × 3 columns</p>\n",
       "</div>"
      ],
      "text/plain": [
       "                                                    url          brand  \\\n",
       "0     https://www.amazon.in/Wayona-Braided-WN3LG1-Sy...         Wayona   \n",
       "1     https://www.amazon.in/Ambrane-Unbreakable-Char...        Ambrane   \n",
       "2     https://www.amazon.in/Sounce-iPhone-Charging-C...         Sounce   \n",
       "3     https://www.amazon.in/Deuce-300-Resistant-Tang...           boAt   \n",
       "4     https://www.amazon.in/Portronics-Konnect-POR-1...     Portronics   \n",
       "...                                                 ...            ...   \n",
       "1460  https://www.amazon.in/Noir-Aqua-Spanner-Purifi...  Polypropylene   \n",
       "1461  https://www.amazon.in/Prestige-Delight-PRWO-1-...       Prestige   \n",
       "1462  https://www.amazon.in/Bajaj-RX-10-2000-Watt-Co...          Bajaj   \n",
       "1463  https://www.amazon.in/Havells-Ventilair-230mm-...        Havells   \n",
       "1464  https://www.amazon.in/Borosil-Jumbo-1000-Watt-...           None   \n",
       "\n",
       "     release_date  \n",
       "0      2018-10-15  \n",
       "1      2021-07-05  \n",
       "2      2021-02-24  \n",
       "3      2020-09-03  \n",
       "4      2020-07-08  \n",
       "...           ...  \n",
       "1460   2020-10-09  \n",
       "1461          NaT  \n",
       "1462   2012-10-11  \n",
       "1463          NaT  \n",
       "1464          NaT  \n",
       "\n",
       "[1465 rows x 3 columns]"
      ]
     },
     "execution_count": 99,
     "metadata": {},
     "output_type": "execute_result"
    }
   ],
   "source": [
    "products_df"
   ]
  },
  {
   "cell_type": "code",
   "execution_count": 125,
   "metadata": {},
   "outputs": [
    {
     "data": {
      "text/plain": [
       "743"
      ]
     },
     "execution_count": 125,
     "metadata": {},
     "output_type": "execute_result"
    }
   ],
   "source": [
    "sum(products_df['brand'].isna())"
   ]
  },
  {
   "cell_type": "code",
   "execution_count": 127,
   "metadata": {},
   "outputs": [
    {
     "data": {
      "text/plain": [
       "969"
      ]
     },
     "execution_count": 127,
     "metadata": {},
     "output_type": "execute_result"
    }
   ],
   "source": [
    "sum(products_df['release_date'].isna())"
   ]
  },
  {
   "cell_type": "code",
   "execution_count": 104,
   "metadata": {},
   "outputs": [
    {
     "data": {
      "text/plain": [
       "brand\n",
       "amazon basics                 39\n",
       "boAt                          30\n",
       "32 Inches                     28\n",
       "Wayona                        20\n",
       "Ambrane                       19\n",
       "                              ..\n",
       "30L x 20W x 7H Centimeters     1\n",
       "VAPJA                          1\n",
       "ZIGMA WinoteK                  1\n",
       "Steel cup and spoon            1\n",
       "Polypropylene                  1\n",
       "Name: count, Length: 259, dtype: int64"
      ]
     },
     "execution_count": 104,
     "metadata": {},
     "output_type": "execute_result"
    }
   ],
   "source": [
    "products_df['brand'].value_counts()"
   ]
  },
  {
   "cell_type": "code",
   "execution_count": 106,
   "metadata": {},
   "outputs": [
    {
     "data": {
      "text/plain": [
       "260"
      ]
     },
     "execution_count": 106,
     "metadata": {},
     "output_type": "execute_result"
    }
   ],
   "source": [
    "len(products_df['brand'].unique())"
   ]
  },
  {
   "cell_type": "code",
   "execution_count": 121,
   "metadata": {},
   "outputs": [
    {
     "data": {
      "text/plain": [
       "<Axes: xlabel='release_date'>"
      ]
     },
     "execution_count": 121,
     "metadata": {},
     "output_type": "execute_result"
    },
    {
     "data": {
      "image/png": "[encoded data removed]",
      "text/plain": [
       "<Figure size 640x480 with 1 Axes>"
      ]
     },
     "metadata": {},
     "output_type": "display_data"
    }
   ],
   "source": [
    "products_df['release_date'].value_counts().sort_index().plot()"
   ]
  },
  {
   "cell_type": "code",
   "execution_count": 103,
   "metadata": {},
   "outputs": [],
   "source": [
    "products_df.to_csv('products.csv')"
   ]
  }
 ],
 "metadata": {
  "kernelspec": {
   "display_name": "ucsd",
   "language": "python",
   "name": "python3"
  },
  "language_info": {
   "codemirror_mode": {
    "name": "ipython",
    "version": 3
   },
   "file_extension": ".py",
   "mimetype": "text/x-python",
   "name": "python",
   "nbconvert_exporter": "python",
   "pygments_lexer": "ipython3",
   "version": "3.12.9"
  }
 },
 "nbformat": 4,
 "nbformat_minor": 2
}
